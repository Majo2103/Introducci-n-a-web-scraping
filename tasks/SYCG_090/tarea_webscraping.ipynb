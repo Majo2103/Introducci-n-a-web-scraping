{
 "cells": [
  {
   "cell_type": "markdown",
   "metadata": {},
   "source": [
    "## Tarea Web-scrapping\n",
    "\n",
    "### Crea una carpeta en 'tasks' con el formato *INICIALES_3UltimosDigitosCU* y copia de este archivo dentro de ella. NO ALTERES ESTA VERSIÓN DEL DOCUMENTO.\n",
    "\n",
    "### Realiza `push` a tus cambios y haz el `pull request`."
   ]
  },
  {
   "cell_type": "markdown",
   "metadata": {},
   "source": [
    "Utiliza la siguiente página para scrapear: https://books.toscrape.com/"
   ]
  },
  {
   "cell_type": "code",
   "execution_count": 21,
   "metadata": {},
   "outputs": [],
   "source": [
    "from selenium import webdriver\n",
    "from selenium.webdriver.common.by import By\n",
    "import pandas\n",
    "\n",
    "# Inicializar el driver de Selenium\n",
    "driver = webdriver.Remote('http://localhost:4444/wd/hub',options=webdriver.ChromeOptions())"
   ]
  },
  {
   "cell_type": "markdown",
   "metadata": {},
   "source": [
    "Abre la página"
   ]
  },
  {
   "cell_type": "code",
   "execution_count": 22,
   "metadata": {},
   "outputs": [],
   "source": [
    "#Abrir la página\n",
    "driver.get('https://books.toscrape.com/')"
   ]
  },
  {
   "cell_type": "markdown",
   "metadata": {},
   "source": [
    "Extraer el título de la página"
   ]
  },
  {
   "cell_type": "code",
   "execution_count": 23,
   "metadata": {},
   "outputs": [
    {
     "name": "stdout",
     "output_type": "stream",
     "text": [
      "All products\n"
     ]
    }
   ],
   "source": [
    "#Extrae el título de la página \n",
    "titulo_element = driver.find_element(By.XPATH, '//h1[text()=\"All products\"]')\n",
    "print(titulo_element.text)\n",
    "\n"
   ]
  },
  {
   "cell_type": "markdown",
   "metadata": {},
   "source": [
    "\n",
    "Encontrar un elemento (puede ser un botón, un enlace, un campo de entrada, etc.) utilizando XPath, ID, u otra estrategia de localización de elementos."
   ]
  },
  {
   "cell_type": "code",
   "execution_count": 24,
   "metadata": {},
   "outputs": [],
   "source": [
    "#Encuentra algun elemento\n",
    "boton1 = driver.find_element(By.XPATH, \"//button[contains(text(), 'Add to basket')]\")\n"
   ]
  },
  {
   "cell_type": "markdown",
   "metadata": {},
   "source": [
    "Realizar alguna acción con el elemento del markdown anterior (por ejemplo, hacer clic en el botón, introducir texto en un campo de entrada, etc.).\n"
   ]
  },
  {
   "cell_type": "code",
   "execution_count": 25,
   "metadata": {},
   "outputs": [],
   "source": [
    "#Realiza la acción\n",
    "boton1.click()"
   ]
  },
  {
   "cell_type": "markdown",
   "metadata": {},
   "source": [
    "Los scrappers son herramientas poderosas para extraer automáticamente datos de una página web. ChatGPT puede ser una ayuda valiosa para generar expresiones XPath que indican dónde se encuentran los datos que deseamos extraer."
   ]
  },
  {
   "cell_type": "markdown",
   "metadata": {},
   "source": [
    "Debemos hacer el inspect y buscar un fragmento de html que le pueda dar contexto a ChatGTP sobre como hacer la consulta, Inspecciona la página hasta encontrar el nodo: ```<li class=\"col-xs-6 col-sm-4 col-md-3 col-lg-3\">```, copia esta información y pide a chatGTP que te dé el XPATH de los títulos. Pruebalo haciendo ctrl+f en la herramienta de inspección"
   ]
  },
  {
   "cell_type": "code",
   "execution_count": 26,
   "metadata": {},
   "outputs": [],
   "source": [
    "#Obtener el XPATH del título de un libro en la página\n",
    "xpath_titulos = '//a[@title=\"A Light in the Attic\"]'"
   ]
  },
  {
   "cell_type": "markdown",
   "metadata": {},
   "source": [
    "Exploraremos cómo ChatGPT puede generar XPATH para extraer precios y otros datos específicos de una página web. "
   ]
  },
  {
   "cell_type": "code",
   "execution_count": 27,
   "metadata": {},
   "outputs": [],
   "source": [
    "#Obtener el XPATH del URL de cada libro\n",
    "xpath_url_de_libros = './/article[@class=\"product_pod\"]/h3/a' "
   ]
  },
  {
   "cell_type": "code",
   "execution_count": 28,
   "metadata": {},
   "outputs": [],
   "source": [
    "#Obtener el XPATH del precio de cada libro\n",
    "xpath_precios = urls_libros = driver.find_elements(By.XPATH, xpath_url_de_libros)"
   ]
  },
  {
   "cell_type": "markdown",
   "metadata": {},
   "source": [
    "Con la información obtenida, guardala en un DataFrame de pandas y encuentrar el libro más barato y el más caro de la primera página mostrada y brinda sus URL's"
   ]
  },
  {
   "cell_type": "code",
   "execution_count": 29,
   "metadata": {},
   "outputs": [
    {
     "name": "stdout",
     "output_type": "stream",
     "text": [
      "URL del libro: https://books.toscrape.com/catalogue/a-light-in-the-attic_1000/index.html\n",
      "URL del libro: https://books.toscrape.com/catalogue/tipping-the-velvet_999/index.html\n",
      "URL del libro: https://books.toscrape.com/catalogue/soumission_998/index.html\n",
      "URL del libro: https://books.toscrape.com/catalogue/sharp-objects_997/index.html\n",
      "URL del libro: https://books.toscrape.com/catalogue/sapiens-a-brief-history-of-humankind_996/index.html\n",
      "URL del libro: https://books.toscrape.com/catalogue/the-requiem-red_995/index.html\n",
      "URL del libro: https://books.toscrape.com/catalogue/the-dirty-little-secrets-of-getting-your-dream-job_994/index.html\n",
      "URL del libro: https://books.toscrape.com/catalogue/the-coming-woman-a-novel-based-on-the-life-of-the-infamous-feminist-victoria-woodhull_993/index.html\n",
      "URL del libro: https://books.toscrape.com/catalogue/the-boys-in-the-boat-nine-americans-and-their-epic-quest-for-gold-at-the-1936-berlin-olympics_992/index.html\n",
      "URL del libro: https://books.toscrape.com/catalogue/the-black-maria_991/index.html\n",
      "URL del libro: https://books.toscrape.com/catalogue/starving-hearts-triangular-trade-trilogy-1_990/index.html\n",
      "URL del libro: https://books.toscrape.com/catalogue/shakespeares-sonnets_989/index.html\n",
      "URL del libro: https://books.toscrape.com/catalogue/set-me-free_988/index.html\n",
      "URL del libro: https://books.toscrape.com/catalogue/scott-pilgrims-precious-little-life-scott-pilgrim-1_987/index.html\n",
      "URL del libro: https://books.toscrape.com/catalogue/rip-it-up-and-start-again_986/index.html\n",
      "URL del libro: https://books.toscrape.com/catalogue/our-band-could-be-your-life-scenes-from-the-american-indie-underground-1981-1991_985/index.html\n",
      "URL del libro: https://books.toscrape.com/catalogue/olio_984/index.html\n",
      "URL del libro: https://books.toscrape.com/catalogue/mesaerion-the-best-science-fiction-stories-1800-1849_983/index.html\n",
      "URL del libro: https://books.toscrape.com/catalogue/libertarianism-for-beginners_982/index.html\n",
      "URL del libro: https://books.toscrape.com/catalogue/its-only-the-himalayas_981/index.html\n"
     ]
    }
   ],
   "source": [
    "lista_url = []\n",
    "# Imprimir las URLs de los libros y almacenarlas en una lista\n",
    "for url_libro in urls_libros:\n",
    "    url = url_libro.get_attribute(\"href\")\n",
    "    print(\"URL del libro:\", url)\n",
    "    lista_url.append(url)"
   ]
  },
  {
   "cell_type": "markdown",
   "metadata": {},
   "source": [
    "## Punto extra\n",
    "Realiza la misma tarea que arriba pero considera todos los libros de la página"
   ]
  },
  {
   "cell_type": "markdown",
   "metadata": {},
   "source": [
    "## Help\n",
    "\n",
    "En caso de atorarte, en este video podrás encontrar la manera en la que se pueden hacer las consultas a ChatGTP para obtener dichos XPATHS:https://youtu.be/4YokIEUeSSY?si=OhBi5eum-joIXtkc"
   ]
  }
 ],
 "metadata": {
  "kernelspec": {
   "display_name": ".env-web-scrap",
   "language": "python",
   "name": ".env-web-scrap"
  },
  "language_info": {
   "codemirror_mode": {
    "name": "ipython",
    "version": 3
   },
   "file_extension": ".py",
   "mimetype": "text/x-python",
   "name": "python",
   "nbconvert_exporter": "python",
   "pygments_lexer": "ipython3",
   "version": "3.11.5"
  },
  "orig_nbformat": 4
 },
 "nbformat": 4,
 "nbformat_minor": 2
}
